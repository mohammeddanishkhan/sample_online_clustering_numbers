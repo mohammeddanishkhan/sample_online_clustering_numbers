{
 "cells": [
  {
   "cell_type": "code",
   "execution_count": 1,
   "metadata": {},
   "outputs": [],
   "source": [
    "import numpy as np"
   ]
  },
  {
   "cell_type": "code",
   "execution_count": 61,
   "metadata": {},
   "outputs": [],
   "source": [
    "# A sample online clustering example with nubers\n",
    "clusters=[]\n",
    "cluster_centers=[]\n",
    "def online_k_means(data, threshhold):\n",
    "    \"\"\"starting\"\"\"\n",
    "    #clusters=[]\n",
    "    #cluster_centers=[]\n",
    "\n",
    "    min_dist=1000 \n",
    "    current_center=-5\n",
    "    distance=1000\n",
    "    for dataPoint in data:\n",
    "        for center in cluster_centers:\n",
    "            #print(center)\n",
    "            #print(dataPoint,\"dataPoint\")\n",
    "            distance=abs(center-dataPoint)\n",
    "            #print(distance,\"distance\")\n",
    "            if(distance<min_dist):\n",
    "                min_dist=distance\n",
    "                current_center=center\n",
    "        if(min_dist<=threshhold):\n",
    "            #print(dataPoint,\"dataPoint\",current_center,\"cluster center\",cluster_centers.index(current_center),\"center index\")\n",
    "            \"\"\"A cluster exists for this data set\"\"\"\n",
    "            clusters[cluster_centers.index(current_center)].append(dataPoint)\n",
    "            #update_centers(clusters,cluster_centers,dataPoint)          \n",
    "            update_centers(cluster_centers.index(current_center),dataPoint)\n",
    "        else:\n",
    "            \"\"\"No cluster exists for this data set\n",
    "            Making new cluster\"\"\"\n",
    "            newCluster=[dataPoint]\n",
    "            clusters.append(newCluster)\n",
    "            cluster_centers.append(dataPoint)\n",
    "        distance=1000\n",
    "        min_dist=1000\n",
    "        current_center=-5\n",
    "    return clusters,cluster_centers"
   ]
  },
  {
   "cell_type": "code",
   "execution_count": 62,
   "metadata": {},
   "outputs": [],
   "source": [
    "# function to update the center of the cluster after every dataPoint is added\n",
    "#we could only pass affected cluster and the center\n",
    "#make cluster and cluster_centers global variable\n",
    "\n",
    "def update_centers(index,dataPoint):\n",
    "        cluster=clusters[index]\n",
    "        cluster_size=np.size(cluster)\n",
    "        old_cluster_center=cluster_centers[index]\n",
    "        new_cluster_center=old_cluster_center+((1/cluster_size)*(dataPoint-old_cluster_center))\n",
    "        cluster_centers[index]=new_cluster_center"
   ]
  },
  {
   "cell_type": "code",
   "execution_count": 63,
   "metadata": {},
   "outputs": [],
   "source": [
    "def online_k_means_update(point, k, cluster_means, cluster_counts):\n",
    "    cluster_distances = np.zeros(k)\n",
    "    for cluster in range(k):\n",
    "        cluster_distances[cluster] = sum(np.sqrt((point - cluster_means[cluster])*2))\n",
    "    c = np.argmin(cluster_distances)\n",
    "    cluster_counts[c] += 1\n",
    "    cluster_means[c] += 1.0/cluster_counts[c]*(point - cluster_means[c])\n",
    "    return c"
   ]
  },
  {
   "cell_type": "code",
   "execution_count": 64,
   "metadata": {},
   "outputs": [
    {
     "name": "stdout",
     "output_type": "stream",
     "text": [
      "[[1], [2, 2.2], [3, 3.3], [4, 4.3, 4.4], [5, 4.7, 4.75], [6, 5.88], [7], [8], [9], [10], [5.2, 5.36]]\n",
      "[1, 2.1, 3.15, 4.233333333333333, 4.816666666666666, 5.9399999999999995, 7, 8, 9, 10, 5.28]\n"
     ]
    }
   ],
   "source": [
    "#data \n",
    "\n",
    "data=[1,2,3,4,5,6,7,8,9,10,2.2,3.3,4.3,4.4,4.7,4.75,5.2,5.36,5.88]\n",
    "clusters,cluster_centers=online_k_means(data,0.3)\n",
    "print(clusters)\n",
    "print(cluster_centers)"
   ]
  },
  {
   "cell_type": "code",
   "execution_count": null,
   "metadata": {},
   "outputs": [],
   "source": []
  }
 ],
 "metadata": {
  "kernelspec": {
   "display_name": "Python 3",
   "language": "python",
   "name": "python3"
  },
  "language_info": {
   "codemirror_mode": {
    "name": "ipython",
    "version": 3
   },
   "file_extension": ".py",
   "mimetype": "text/x-python",
   "name": "python",
   "nbconvert_exporter": "python",
   "pygments_lexer": "ipython3",
   "version": "3.6.5"
  }
 },
 "nbformat": 4,
 "nbformat_minor": 2
}
